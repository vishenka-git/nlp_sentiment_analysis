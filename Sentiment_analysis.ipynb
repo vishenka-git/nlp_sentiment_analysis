{
  "nbformat": 4,
  "nbformat_minor": 0,
  "metadata": {
    "colab": {
      "name": "Kinopoisk reviews NLP.ipynb",
      "provenance": [],
      "collapsed_sections": [],
      "mount_file_id": "1dllZCYj8ZaaGp-gCMGz7KmBwOhMU73U9",
      "authorship_tag": "ABX9TyNiY/++GUYHhtRpiVCWfTNo",
      "include_colab_link": true
    },
    "kernelspec": {
      "name": "python3",
      "display_name": "Python 3"
    },
    "accelerator": "GPU"
  },
  "cells": [
    {
      "cell_type": "markdown",
      "metadata": {
        "id": "view-in-github",
        "colab_type": "text"
      },
      "source": [
        "<a href=\"https://colab.research.google.com/github/vishenka-git/nlp_sentiment_analysis/blob/master/Sentiment_analysis.ipynb\" target=\"_parent\"><img src=\"https://colab.research.google.com/assets/colab-badge.svg\" alt=\"Open In Colab\"/></a>"
      ]
    },
    {
      "cell_type": "code",
      "metadata": {
        "id": "y6rGqxAGypdh",
        "colab_type": "code",
        "colab": {
          "base_uri": "https://localhost:8080/",
          "height": 125
        },
        "outputId": "70b70580-ba54-4ce1-9b7f-8441069e1268"
      },
      "source": [
        "from google.colab import drive\n",
        "drive.mount('/content/gdrive')"
      ],
      "execution_count": 1,
      "outputs": [
        {
          "output_type": "stream",
          "text": [
            "Go to this URL in a browser: https://accounts.google.com/o/oauth2/auth?client_id=947318989803-6bn6qk8qdgf4n4g3pfee6491hc0brc4i.apps.googleusercontent.com&redirect_uri=urn%3aietf%3awg%3aoauth%3a2.0%3aoob&response_type=code&scope=email%20https%3a%2f%2fwww.googleapis.com%2fauth%2fdocs.test%20https%3a%2f%2fwww.googleapis.com%2fauth%2fdrive%20https%3a%2f%2fwww.googleapis.com%2fauth%2fdrive.photos.readonly%20https%3a%2f%2fwww.googleapis.com%2fauth%2fpeopleapi.readonly\n",
            "\n",
            "Enter your authorization code:\n",
            "··········\n",
            "Mounted at /content/gdrive\n"
          ],
          "name": "stdout"
        }
      ]
    },
    {
      "cell_type": "code",
      "metadata": {
        "id": "gy8zN0kdOnGQ",
        "colab_type": "code",
        "colab": {}
      },
      "source": [
        "#!ls \"/content/gdrive/My Drive\""
      ],
      "execution_count": 3,
      "outputs": []
    },
    {
      "cell_type": "code",
      "metadata": {
        "id": "Bzv5lhH3z8nB",
        "colab_type": "code",
        "colab": {
          "base_uri": "https://localhost:8080/",
          "height": 265
        },
        "outputId": "982f70f7-d31a-49aa-95bf-884dd8c297b5"
      },
      "source": [
        "import pandas as pd\n",
        "reviews = pd.read_excel('/content/gdrive/My Drive/reviews.xlsx')\n",
        "\n",
        "print(reviews)"
      ],
      "execution_count": 2,
      "outputs": [
        {
          "output_type": "stream",
          "text": [
            "        target  ...                                        review_text\n",
            "0         good  ...  Настоящее кино. Наше кино. Прекрасная работа с...\n",
            "1         good  ...  Мало того, что сериал «Империя под ударом» (12...\n",
            "2         good  ...  Период от реформ Александра Освободителя до пе...\n",
            "3         good  ...  Атмосферный сериал о Российской Империи начала...\n",
            "4      neutral  ...  Самая большая беда современного общества это т...\n",
            "...        ...  ...                                                ...\n",
            "80279     good  ...  О фильме узнал совершенно случайно, увидел пос...\n",
            "80280     good  ...  Обожаю фильмы с Дэнни Гловером. Его последнее ...\n",
            "80281     good  ...  Реслинг борьбе рознь!\\n\\r\\nТак уж вышло, что в...\n",
            "80282     good  ...  Удивительно, но даже такой рестлер-актер, как ...\n",
            "80283     good  ...  Буду честным, я ожидал что весь фильм я буду с...\n",
            "\n",
            "[80284 rows x 6 columns]\n"
          ],
          "name": "stdout"
        }
      ]
    },
    {
      "cell_type": "code",
      "metadata": {
        "id": "llLtZeGpT76W",
        "colab_type": "code",
        "colab": {
          "base_uri": "https://localhost:8080/",
          "height": 70
        },
        "outputId": "cbc6ed7b-d0cd-4bb7-d31d-9ba3a624536d"
      },
      "source": [
        "reviews.columns"
      ],
      "execution_count": 3,
      "outputs": [
        {
          "output_type": "execute_result",
          "data": {
            "text/plain": [
              "Index(['target', 'movie_link', 'author_id', 'author_name', 'review_subtitle',\n",
              "       'review_text'],\n",
              "      dtype='object')"
            ]
          },
          "metadata": {
            "tags": []
          },
          "execution_count": 3
        }
      ]
    },
    {
      "cell_type": "code",
      "metadata": {
        "id": "M9VLijoSPTa3",
        "colab_type": "code",
        "colab": {}
      },
      "source": [
        "pd.options.display.max_colwidth = 1000\n",
        "pd.options.display.max_rows = 1000"
      ],
      "execution_count": 4,
      "outputs": []
    },
    {
      "cell_type": "code",
      "metadata": {
        "id": "QPy-WnIqtX46",
        "colab_type": "code",
        "colab": {
          "base_uri": "https://localhost:8080/",
          "height": 351
        },
        "outputId": "25d53443-2350-4fd0-8833-b15ff62697f3"
      },
      "source": [
        "reviews.describe()"
      ],
      "execution_count": 6,
      "outputs": [
        {
          "output_type": "execute_result",
          "data": {
            "text/html": [
              "<div>\n",
              "<style scoped>\n",
              "    .dataframe tbody tr th:only-of-type {\n",
              "        vertical-align: middle;\n",
              "    }\n",
              "\n",
              "    .dataframe tbody tr th {\n",
              "        vertical-align: top;\n",
              "    }\n",
              "\n",
              "    .dataframe thead th {\n",
              "        text-align: right;\n",
              "    }\n",
              "</style>\n",
              "<table border=\"1\" class=\"dataframe\">\n",
              "  <thead>\n",
              "    <tr style=\"text-align: right;\">\n",
              "      <th></th>\n",
              "      <th>target</th>\n",
              "      <th>movie_link</th>\n",
              "      <th>author_id</th>\n",
              "      <th>author_name</th>\n",
              "      <th>review_subtitle</th>\n",
              "      <th>review_text</th>\n",
              "    </tr>\n",
              "  </thead>\n",
              "  <tbody>\n",
              "    <tr>\n",
              "      <th>count</th>\n",
              "      <td>80284</td>\n",
              "      <td>80284</td>\n",
              "      <td>80284</td>\n",
              "      <td>80282</td>\n",
              "      <td>60200</td>\n",
              "      <td>80282</td>\n",
              "    </tr>\n",
              "    <tr>\n",
              "      <th>unique</th>\n",
              "      <td>3</td>\n",
              "      <td>2160</td>\n",
              "      <td>22278</td>\n",
              "      <td>23496</td>\n",
              "      <td>46180</td>\n",
              "      <td>63433</td>\n",
              "    </tr>\n",
              "    <tr>\n",
              "      <th>top</th>\n",
              "      <td>good</td>\n",
              "      <td>/film/matrica-revolyuciya-2003-316/</td>\n",
              "      <td>0</td>\n",
              "      <td>Tristo</td>\n",
              "      <td>Шедевр</td>\n",
              "      <td>Посмотреть этот фильм я решила из-за фотографии. Недели 2 назад на просторах Интернета я нашла кадр, где Джереми Реннер ну очень сексуально стреляет из сверхточной винтовки. А как только я увидела актерский состав, поняла  этот фильм надо точно посмотреть!\\n\\r\\nВ принципе, сюжет далеко не новый. Полицейских за плохо выполненное задание отправляют в самый скучный департамент, где им дает второй шанс какая-нибудь легендарная личность. Они тренируются в спецотряде и все их навыки воплощаются в какой-нибудь особой миссии. Нигде не надо думать, просто смотрим и наслаждаемся.\\n\\r\\nКак я уже говорила, актерский состав  просто великолепен! Колин Фаррелл  главный герой, хорошо натренированный коп, котрому и дается этот второй шанс  сыграл неплохо, особенно хорошо во второй части фильма. Сэмюэль Л. Джексон  один из моих любимых актеров  играет лидера спецотряда. Ему очень хорошо удаются роли наставников и лидеров  достаточно посмотреть Звездные войны, Мстителей и Криминальное чтиво. Н...</td>\n",
              "    </tr>\n",
              "    <tr>\n",
              "      <th>freq</th>\n",
              "      <td>60189</td>\n",
              "      <td>150</td>\n",
              "      <td>5243</td>\n",
              "      <td>702</td>\n",
              "      <td>25</td>\n",
              "      <td>4</td>\n",
              "    </tr>\n",
              "  </tbody>\n",
              "</table>\n",
              "</div>"
            ],
            "text/plain": [
              "       target  ...                                                                                                                                                                                                                                                                                                                                                                                                                                                                                                                                                                                                                                                                                                                                                                                                                                                                                                                                                                                                                              review_text\n",
              "count   80284  ...                                                                                                                                                                                                                                                                                                                                                                                                                                                                                                                                                                                                                                                                                                                                                                                                                                                                                                                                                                                                                                    80282\n",
              "unique      3  ...                                                                                                                                                                                                                                                                                                                                                                                                                                                                                                                                                                                                                                                                                                                                                                                                                                                                                                                                                                                                                                    63433\n",
              "top      good  ...  Посмотреть этот фильм я решила из-за фотографии. Недели 2 назад на просторах Интернета я нашла кадр, где Джереми Реннер ну очень сексуально стреляет из сверхточной винтовки. А как только я увидела актерский состав, поняла  этот фильм надо точно посмотреть!\\n\\r\\nВ принципе, сюжет далеко не новый. Полицейских за плохо выполненное задание отправляют в самый скучный департамент, где им дает второй шанс какая-нибудь легендарная личность. Они тренируются в спецотряде и все их навыки воплощаются в какой-нибудь особой миссии. Нигде не надо думать, просто смотрим и наслаждаемся.\\n\\r\\nКак я уже говорила, актерский состав  просто великолепен! Колин Фаррелл  главный герой, хорошо натренированный коп, котрому и дается этот второй шанс  сыграл неплохо, особенно хорошо во второй части фильма. Сэмюэль Л. Джексон  один из моих любимых актеров  играет лидера спецотряда. Ему очень хорошо удаются роли наставников и лидеров  достаточно посмотреть Звездные войны, Мстителей и Криминальное чтиво. Н...\n",
              "freq    60189  ...                                                                                                                                                                                                                                                                                                                                                                                                                                                                                                                                                                                                                                                                                                                                                                                                                                                                                                                                                                                                                                        4\n",
              "\n",
              "[4 rows x 6 columns]"
            ]
          },
          "metadata": {
            "tags": []
          },
          "execution_count": 6
        }
      ]
    },
    {
      "cell_type": "code",
      "metadata": {
        "id": "xab5-pQua38O",
        "colab_type": "code",
        "colab": {}
      },
      "source": [
        "text = reviews['review_text']"
      ],
      "execution_count": 7,
      "outputs": []
    },
    {
      "cell_type": "code",
      "metadata": {
        "id": "2Y4HUCQka-b9",
        "colab_type": "code",
        "colab": {
          "base_uri": "https://localhost:8080/",
          "height": 124
        },
        "outputId": "f1b0d522-29d5-4cd8-a8c6-369dff36f858"
      },
      "source": [
        "text[0]"
      ],
      "execution_count": 8,
      "outputs": [
        {
          "output_type": "execute_result",
          "data": {
            "application/vnd.google.colaboratory.intrinsic+json": {
              "type": "string"
            },
            "text/plain": [
              "'Настоящее кино. Наше кино. Прекрасная работа сценариста, режиссёра, операторов. Профессиональный монтаж, музыкальное сопровождение. Превосходная игра актёров.\\n\\r\\nРабота с\\xa0таким тонким материалом, как\\xa0история, требует мастерства и\\xa0подлинного таланта. Это\\xa0не фантазия и\\xa0нахлынувшее воображение, а\\xa0факты, подлинная история, с\\xa0которой нельзя не\\xa0считаться. Прочувственно то\\xa0неспокойное время. Фильм не\\xa0отвергает прошлое, как\\xa0делают в\\xa0некоторых картин, не\\xa0старается выкрасить в\\xa0чёрные цвета действующих лиц. \\n\\r\\nФильм всего лишь повествует о\\xa0людях, об\\xa0идеях, о\\xa0любви. Повествует о\\xa0стране, которая очень сильно изменилась, но\\xa0по-прежнему существует. Хочется вериться, что\\xa0никакие идеи и\\xa0люди, которые борются за\\xa0эти идеи, не\\xa0пойдут по\\xa0проторённой дороге. Уроки должны быть выучены, особенно уроки истории.'"
            ]
          },
          "metadata": {
            "tags": []
          },
          "execution_count": 8
        }
      ]
    },
    {
      "cell_type": "code",
      "metadata": {
        "id": "ardZ1rqo7Y9t",
        "colab_type": "code",
        "colab": {}
      },
      "source": [
        "import numpy as np\n",
        "import seaborn as sns\n",
        "import matplotlib.pyplot as plt\n",
        "import nltk\n",
        "from sklearn.feature_extraction.text import CountVectorizer, TfidfVectorizer\n",
        "from nltk.corpus import stopwords\n",
        "from nltk.tokenize import word_tokenize,sent_tokenize\n",
        "import spacy\n",
        "from sklearn.linear_model import LogisticRegression, SGDClassifier\n",
        "from sklearn.naive_bayes import MultinomialNB\n",
        "# from sklearn.svm import SVC\n",
        "# from textblob import TextBlob\n",
        "# from textblob import Word\n",
        "from sklearn.metrics import classification_report, confusion_matrix, accuracy_score"
      ],
      "execution_count": 10,
      "outputs": []
    },
    {
      "cell_type": "code",
      "metadata": {
        "id": "dwOOemvCSghS",
        "colab_type": "code",
        "colab": {
          "base_uri": "https://localhost:8080/",
          "height": 70
        },
        "outputId": "868037ad-70be-47a7-9b7b-861f64cfa70f"
      },
      "source": [
        "import nltk\n",
        "nltk.download('stopwords')"
      ],
      "execution_count": 11,
      "outputs": [
        {
          "output_type": "stream",
          "text": [
            "[nltk_data] Downloading package stopwords to /root/nltk_data...\n",
            "[nltk_data]   Unzipping corpora/stopwords.zip.\n"
          ],
          "name": "stdout"
        },
        {
          "output_type": "execute_result",
          "data": {
            "text/plain": [
              "True"
            ]
          },
          "metadata": {
            "tags": []
          },
          "execution_count": 11
        }
      ]
    },
    {
      "cell_type": "code",
      "metadata": {
        "id": "qD3AEniQ9s8C",
        "colab_type": "code",
        "colab": {
          "base_uri": "https://localhost:8080/",
          "height": 72
        },
        "outputId": "5f3a37f5-538d-4698-b617-b0be10e3cc82"
      },
      "source": [
        "from nltk.corpus import stopwords\n",
        "stoplist = stopwords.words('russian')\n",
        "stopset = set(stopwords.words('russian'))\n",
        "print(stoplist)\n",
        "print(stopset)"
      ],
      "execution_count": 12,
      "outputs": [
        {
          "output_type": "stream",
          "text": [
            "['и', 'в', 'во', 'не', 'что', 'он', 'на', 'я', 'с', 'со', 'как', 'а', 'то', 'все', 'она', 'так', 'его', 'но', 'да', 'ты', 'к', 'у', 'же', 'вы', 'за', 'бы', 'по', 'только', 'ее', 'мне', 'было', 'вот', 'от', 'меня', 'еще', 'нет', 'о', 'из', 'ему', 'теперь', 'когда', 'даже', 'ну', 'вдруг', 'ли', 'если', 'уже', 'или', 'ни', 'быть', 'был', 'него', 'до', 'вас', 'нибудь', 'опять', 'уж', 'вам', 'ведь', 'там', 'потом', 'себя', 'ничего', 'ей', 'может', 'они', 'тут', 'где', 'есть', 'надо', 'ней', 'для', 'мы', 'тебя', 'их', 'чем', 'была', 'сам', 'чтоб', 'без', 'будто', 'чего', 'раз', 'тоже', 'себе', 'под', 'будет', 'ж', 'тогда', 'кто', 'этот', 'того', 'потому', 'этого', 'какой', 'совсем', 'ним', 'здесь', 'этом', 'один', 'почти', 'мой', 'тем', 'чтобы', 'нее', 'сейчас', 'были', 'куда', 'зачем', 'всех', 'никогда', 'можно', 'при', 'наконец', 'два', 'об', 'другой', 'хоть', 'после', 'над', 'больше', 'тот', 'через', 'эти', 'нас', 'про', 'всего', 'них', 'какая', 'много', 'разве', 'три', 'эту', 'моя', 'впрочем', 'хорошо', 'свою', 'этой', 'перед', 'иногда', 'лучше', 'чуть', 'том', 'нельзя', 'такой', 'им', 'более', 'всегда', 'конечно', 'всю', 'между']\n",
            "{'она', 'еще', 'только', 'тоже', 'под', 'ним', 'бы', 'этой', 'уж', 'даже', 'здесь', 'на', 'перед', 'с', 'все', 'ей', 'ему', 'во', 'со', 'потом', 'ничего', 'чтобы', 'по', 'зачем', 'надо', 'их', 'между', 'был', 'же', 'чтоб', 'ты', 'какой', 'от', 'почти', 'чем', 'куда', 'за', 'к', 'мой', 'нет', 'быть', 'больше', 'него', 'а', 'какая', 'нельзя', 'ее', 'том', 'если', 'можно', 'хорошо', 'не', 'того', 'вас', 'ней', 'всех', 'через', 'есть', 'об', 'впрочем', 'то', 'кто', 'три', 'нее', 'мне', 'сейчас', 'чего', 'тот', 'вдруг', 'иногда', 'где', 'теперь', 'ну', 'я', 'что', 'для', 'его', 'у', 'была', 'много', 'когда', 'совсем', 'были', 'нибудь', 'ни', 'может', 'они', 'эту', 'всего', 'всегда', 'этого', 'один', 'сам', 'будет', 'чуть', 'или', 'про', 'из', 'свою', 'он', 'там', 'да', 'потому', 'такой', 'как', 'этом', 'о', 'опять', 'них', 'им', 'ж', 'этот', 'тогда', 'никогда', 'два', 'вы', 'меня', 'нас', 'после', 'над', 'но', 'тем', 'без', 'лучше', 'себя', 'раз', 'всю', 'ведь', 'будто', 'вот', 'до', 'моя', 'вам', 'другой', 'хоть', 'ли', 'эти', 'мы', 'более', 'конечно', 'наконец', 'уже', 'тут', 'при', 'и', 'было', 'тебя', 'в', 'разве', 'себе', 'так'}\n"
          ],
          "name": "stdout"
        }
      ]
    },
    {
      "cell_type": "code",
      "metadata": {
        "id": "HUHsKC4qBP3T",
        "colab_type": "code",
        "colab": {
          "base_uri": "https://localhost:8080/",
          "height": 34
        },
        "outputId": "be4e584e-1324-4455-9ab5-68be32802305"
      },
      "source": [
        "from string import punctuation\n",
        "punctlist = [punctuation]\n",
        "print(punctlist)"
      ],
      "execution_count": 13,
      "outputs": [
        {
          "output_type": "stream",
          "text": [
            "['!\"#$%&\\'()*+,-./:;<=>?@[\\\\]^_`{|}~']\n"
          ],
          "name": "stdout"
        }
      ]
    },
    {
      "cell_type": "code",
      "metadata": {
        "id": "iIAz0vf1BWa-",
        "colab_type": "code",
        "colab": {}
      },
      "source": [
        "# noise = stopwords.words('russian') + list(punctuation)"
      ],
      "execution_count": null,
      "outputs": []
    },
    {
      "cell_type": "code",
      "metadata": {
        "id": "Y6XX6Poa6O9I",
        "colab_type": "code",
        "colab": {
          "base_uri": "https://localhost:8080/",
          "height": 87
        },
        "outputId": "fa5b7f51-a159-45e0-ff79-afb5831ea1c9"
      },
      "source": [
        "#sentiment count\n",
        "reviews['target'].value_counts()"
      ],
      "execution_count": 14,
      "outputs": [
        {
          "output_type": "execute_result",
          "data": {
            "text/plain": [
              "good       60189\n",
              "neutral    12814\n",
              "bad         7281\n",
              "Name: target, dtype: int64"
            ]
          },
          "metadata": {
            "tags": []
          },
          "execution_count": 14
        }
      ]
    },
    {
      "cell_type": "code",
      "metadata": {
        "id": "LC0J9XaxaBYY",
        "colab_type": "code",
        "colab": {
          "base_uri": "https://localhost:8080/",
          "height": 278
        },
        "outputId": "69efa82f-060d-4fcd-8437-021d726d0887"
      },
      "source": [
        "Sentiment_count=reviews.groupby('target').count()\n",
        "plt.bar(Sentiment_count.index.values, Sentiment_count['review_text'])\n",
        "plt.xlabel('Review Sentiments')\n",
        "plt.ylabel('Number of Review')\n",
        "plt.show()"
      ],
      "execution_count": 15,
      "outputs": [
        {
          "output_type": "display_data",
          "data": {
            "image/png": "[encoded data removed]",
            "text/plain": [
              "<Figure size 432x288 with 1 Axes>"
            ]
          },
          "metadata": {
            "tags": [],
            "needs_background": "light"
          }
        }
      ]
    },
    {
      "cell_type": "code",
      "metadata": {
        "id": "u5jWabYTg_KO",
        "colab_type": "code",
        "colab": {}
      },
      "source": [
        "reviews['review_len'] = reviews['review_text'].dropna().astype(str).apply(len)\n",
        "reviews['word_count'] = reviews['review_text'].dropna().apply(lambda x: len(str(x).split()))"
      ],
      "execution_count": 16,
      "outputs": []
    },
    {
      "cell_type": "code",
      "metadata": {
        "id": "ilz1vtNYhQDT",
        "colab_type": "code",
        "colab": {
          "base_uri": "https://localhost:8080/",
          "height": 297
        },
        "outputId": "74ba02e8-f6a5-49ed-d161-1a5ddab33a81"
      },
      "source": [
        "import seaborn as sns\n",
        "sns.distplot(reviews['review_len'], color = 'blue')"
      ],
      "execution_count": 18,
      "outputs": [
        {
          "output_type": "execute_result",
          "data": {
            "text/plain": [
              "<matplotlib.axes._subplots.AxesSubplot at 0x7f72bde4d2e8>"
            ]
          },
          "metadata": {
            "tags": []
          },
          "execution_count": 18
        },
        {
          "output_type": "display_data",
          "data": {
            "image/png": "[encoded data removed]",
            "text/plain": [
              "<Figure size 432x288 with 1 Axes>"
            ]
          },
          "metadata": {
            "tags": [],
            "needs_background": "light"
          }
        }
      ]
    },
    {
      "cell_type": "code",
      "metadata": {
        "id": "6TMMuVP8h38k",
        "colab_type": "code",
        "colab": {
          "base_uri": "https://localhost:8080/",
          "height": 296
        },
        "outputId": "5f30e609-c324-4988-d479-a934a750c642"
      },
      "source": [
        "import seaborn as sns\n",
        "sns.distplot(reviews['word_count'],\n",
        "    bins=100,\n",
        "    axlabel ='word count',\n",
        "    color ='blue',\n",
        "    label ='Review Text Word Count Distribution'\n",
        "    )"
      ],
      "execution_count": 19,
      "outputs": [
        {
          "output_type": "execute_result",
          "data": {
            "text/plain": [
              "<matplotlib.axes._subplots.AxesSubplot at 0x7f72bd8a2518>"
            ]
          },
          "metadata": {
            "tags": []
          },
          "execution_count": 19
        },
        {
          "output_type": "display_data",
          "data": {
            "image/png": "[encoded data removed]",
            "text/plain": [
              "<Figure size 432x288 with 1 Axes>"
            ]
          },
          "metadata": {
            "tags": [],
            "needs_background": "light"
          }
        }
      ]
    },
    {
      "cell_type": "code",
      "metadata": {
        "id": "Js-wsljEvyiV",
        "colab_type": "code",
        "colab": {
          "base_uri": "https://localhost:8080/",
          "height": 287
        },
        "outputId": "b872dada-3d08-4a1a-ab93-68224547d470"
      },
      "source": [
        "reviews.describe()"
      ],
      "execution_count": 20,
      "outputs": [
        {
          "output_type": "execute_result",
          "data": {
            "text/html": [
              "<div>\n",
              "<style scoped>\n",
              "    .dataframe tbody tr th:only-of-type {\n",
              "        vertical-align: middle;\n",
              "    }\n",
              "\n",
              "    .dataframe tbody tr th {\n",
              "        vertical-align: top;\n",
              "    }\n",
              "\n",
              "    .dataframe thead th {\n",
              "        text-align: right;\n",
              "    }\n",
              "</style>\n",
              "<table border=\"1\" class=\"dataframe\">\n",
              "  <thead>\n",
              "    <tr style=\"text-align: right;\">\n",
              "      <th></th>\n",
              "      <th>review_len</th>\n",
              "      <th>word_count</th>\n",
              "    </tr>\n",
              "  </thead>\n",
              "  <tbody>\n",
              "    <tr>\n",
              "      <th>count</th>\n",
              "      <td>80282.000000</td>\n",
              "      <td>80282.000000</td>\n",
              "    </tr>\n",
              "    <tr>\n",
              "      <th>mean</th>\n",
              "      <td>2176.935054</td>\n",
              "      <td>325.375240</td>\n",
              "    </tr>\n",
              "    <tr>\n",
              "      <th>std</th>\n",
              "      <td>1410.811082</td>\n",
              "      <td>208.397739</td>\n",
              "    </tr>\n",
              "    <tr>\n",
              "      <th>min</th>\n",
              "      <td>1.000000</td>\n",
              "      <td>1.000000</td>\n",
              "    </tr>\n",
              "    <tr>\n",
              "      <th>25%</th>\n",
              "      <td>1160.000000</td>\n",
              "      <td>175.000000</td>\n",
              "    </tr>\n",
              "    <tr>\n",
              "      <th>50%</th>\n",
              "      <td>1830.000000</td>\n",
              "      <td>275.000000</td>\n",
              "    </tr>\n",
              "    <tr>\n",
              "      <th>75%</th>\n",
              "      <td>2834.000000</td>\n",
              "      <td>423.000000</td>\n",
              "    </tr>\n",
              "    <tr>\n",
              "      <th>max</th>\n",
              "      <td>20924.000000</td>\n",
              "      <td>3139.000000</td>\n",
              "    </tr>\n",
              "  </tbody>\n",
              "</table>\n",
              "</div>"
            ],
            "text/plain": [
              "         review_len    word_count\n",
              "count  80282.000000  80282.000000\n",
              "mean    2176.935054    325.375240\n",
              "std     1410.811082    208.397739\n",
              "min        1.000000      1.000000\n",
              "25%     1160.000000    175.000000\n",
              "50%     1830.000000    275.000000\n",
              "75%     2834.000000    423.000000\n",
              "max    20924.000000   3139.000000"
            ]
          },
          "metadata": {
            "tags": []
          },
          "execution_count": 20
        }
      ]
    },
    {
      "cell_type": "code",
      "metadata": {
        "id": "A2cT3_PwqLFJ",
        "colab_type": "code",
        "colab": {
          "base_uri": "https://localhost:8080/",
          "height": 167
        },
        "outputId": "b591db99-5d38-4dba-eb51-0741f9b4b758"
      },
      "source": [
        "reviews.groupby('target').count()"
      ],
      "execution_count": 21,
      "outputs": [
        {
          "output_type": "execute_result",
          "data": {
            "text/html": [
              "<div>\n",
              "<style scoped>\n",
              "    .dataframe tbody tr th:only-of-type {\n",
              "        vertical-align: middle;\n",
              "    }\n",
              "\n",
              "    .dataframe tbody tr th {\n",
              "        vertical-align: top;\n",
              "    }\n",
              "\n",
              "    .dataframe thead th {\n",
              "        text-align: right;\n",
              "    }\n",
              "</style>\n",
              "<table border=\"1\" class=\"dataframe\">\n",
              "  <thead>\n",
              "    <tr style=\"text-align: right;\">\n",
              "      <th></th>\n",
              "      <th>movie_link</th>\n",
              "      <th>author_id</th>\n",
              "      <th>author_name</th>\n",
              "      <th>review_subtitle</th>\n",
              "      <th>review_text</th>\n",
              "      <th>review_len</th>\n",
              "      <th>word_count</th>\n",
              "    </tr>\n",
              "    <tr>\n",
              "      <th>target</th>\n",
              "      <th></th>\n",
              "      <th></th>\n",
              "      <th></th>\n",
              "      <th></th>\n",
              "      <th></th>\n",
              "      <th></th>\n",
              "      <th></th>\n",
              "    </tr>\n",
              "  </thead>\n",
              "  <tbody>\n",
              "    <tr>\n",
              "      <th>bad</th>\n",
              "      <td>7281</td>\n",
              "      <td>7281</td>\n",
              "      <td>7281</td>\n",
              "      <td>5475</td>\n",
              "      <td>7281</td>\n",
              "      <td>7281</td>\n",
              "      <td>7281</td>\n",
              "    </tr>\n",
              "    <tr>\n",
              "      <th>good</th>\n",
              "      <td>60189</td>\n",
              "      <td>60189</td>\n",
              "      <td>60187</td>\n",
              "      <td>46500</td>\n",
              "      <td>60187</td>\n",
              "      <td>60187</td>\n",
              "      <td>60187</td>\n",
              "    </tr>\n",
              "    <tr>\n",
              "      <th>neutral</th>\n",
              "      <td>12814</td>\n",
              "      <td>12814</td>\n",
              "      <td>12814</td>\n",
              "      <td>8225</td>\n",
              "      <td>12814</td>\n",
              "      <td>12814</td>\n",
              "      <td>12814</td>\n",
              "    </tr>\n",
              "  </tbody>\n",
              "</table>\n",
              "</div>"
            ],
            "text/plain": [
              "         movie_link  author_id  ...  review_len  word_count\n",
              "target                          ...                        \n",
              "bad            7281       7281  ...        7281        7281\n",
              "good          60189      60189  ...       60187       60187\n",
              "neutral       12814      12814  ...       12814       12814\n",
              "\n",
              "[3 rows x 7 columns]"
            ]
          },
          "metadata": {
            "tags": []
          },
          "execution_count": 21
        }
      ]
    },
    {
      "cell_type": "code",
      "metadata": {
        "id": "Z2FLx5mgBeTd",
        "colab_type": "code",
        "colab": {}
      },
      "source": [
        "review_list = text.to_list()"
      ],
      "execution_count": 23,
      "outputs": []
    },
    {
      "cell_type": "code",
      "metadata": {
        "id": "d1TzPpwZp5s7",
        "colab_type": "code",
        "colab": {}
      },
      "source": [
        "import re\n",
        "\n",
        "def preprocess_text(text):\n",
        "    text = str(text).lower().replace(\"ё\", \"е\")\n",
        "    text = re.sub('((www\\.[^\\s]+)|(https?://[^\\s]+))', 'URL', text)\n",
        "    text = re.sub('@[^\\s]+', 'USER', text)\n",
        "    text = re.sub('[^a-zA-Zа-яА-Я0-9]+', ' ', text)\n",
        "    text = re.sub(' +', ' ', text)\n",
        "    return text.strip()\n",
        "\n",
        "\n",
        "data = [preprocess_text(t) for t in review_list]"
      ],
      "execution_count": 24,
      "outputs": []
    },
    {
      "cell_type": "code",
      "metadata": {
        "id": "akbDgDc8CsQK",
        "colab_type": "code",
        "colab": {
          "base_uri": "https://localhost:8080/",
          "height": 34
        },
        "outputId": "8448a92e-1916-43e8-c470-1fbbf9806064"
      },
      "source": [
        "type(data[0])"
      ],
      "execution_count": 25,
      "outputs": [
        {
          "output_type": "execute_result",
          "data": {
            "text/plain": [
              "str"
            ]
          },
          "metadata": {
            "tags": []
          },
          "execution_count": 25
        }
      ]
    },
    {
      "cell_type": "code",
      "metadata": {
        "id": "4Y-1fOUDyEpv",
        "colab_type": "code",
        "colab": {
          "base_uri": "https://localhost:8080/",
          "height": 125
        },
        "outputId": "fd74f7ce-79bd-4c90-f0e1-917a1b49eab3"
      },
      "source": [
        "data[:5]"
      ],
      "execution_count": 26,
      "outputs": [
        {
          "output_type": "execute_result",
          "data": {
            "text/plain": [
              "['настоящее кино наше кино прекрасная работа сценариста режиссера операторов профессиональный монтаж музыкальное сопровождение превосходная игра актеров работа с таким тонким материалом как история требует мастерства и подлинного таланта это не фантазия и нахлынувшее воображение а факты подлинная история с которой нельзя не считаться прочувственно то неспокойное время фильм не отвергает прошлое как делают в некоторых картин не старается выкрасить в черные цвета действующих лиц фильм всего лишь повествует о людях об идеях о любви повествует о стране которая очень сильно изменилась но по прежнему существует хочется вериться что никакие идеи и люди которые борются за эти идеи не пойдут по проторенной дороге уроки должны быть выучены особенно уроки истории',\n",
              " 'мало того что сериал империя под ударом 12 серий по 45 50 мин по делу на серию сам по себе на удивление хорош и серьезен особенно памятуя то непростое время смены столетий и власти в россии ушел ельцин пришел путин уходили бандитские 90 е восстанавливался как мог законопорядок так он еще и вскоре став культовым послужил предтечей многих последующих телесериальных работ но главное он наряду с некоторыми другими лентами дал нам понять что в современной россии при желании терпении старании и соответственном финансовом вливании можно и нужно создавать не многосерийную мишуру а вполне настоящее только длинное кино для телезрителей которое хочется пересматривать еще и еще и которое дает пищу и для эмоций и для души и для ума особое же спасибо нашей империи за привлечение зрительского внимания к российской истории 19 20 го веков и к самой тамошней жизни почему мы уже более 15 лет с удовольствием смотрим и детективы и мелодрамы из той поры о которой оказывается мы так мало знаем да и то в однобоко коммунистической трактовке советских учебников теперь же нам демократично предоставляют возможность взглянуть на события и факты с другой стороны слова ударение на о которой не предоставляли почти 70 лет после великой октябрьской социалистической революции кстати в 2017 м году этому судьбоносному для нашей страны событию исполняется 100 лет отличный повод объективно осветить его значение и последствия на теле и киноэкранах но нам этого мало потому и я и другие заинтригованные зрители посмотрев очередной исторический сериал или фильм даже о руси изначальной начинаем лихорадочно рыскать в книгах википедии и т д в стремлении к истине по пути к ней обогащая себя новыми знаниями и обнаруживая ошибки и неточности в увиденном и это просто здорово ведь искусство помимо всего прочего еще и побуждает человека к поиску иногда даже самого себя ого сколько я тут наваял разной философии давно пора перейти к конкретике начну с вашего позволения как мне уверенно думается суперидея империи под ударом состоит в том что не будь российское имперское в том числе сыскное начальство столь по русски беспечным порой даже благодушным ну кому я что сделал чтобы меня взрывать многие из него остались бы как минимум живы другой вопрос заслужили ли они смерть своими деяниями или нет а как максимум сохранилось бы спокойствие в обществе которое в начале прошлого века стремительно эволюционировало в сторону демократизации и приемлемого капитализма увы жестких прагматиков вроде начальника особого отдела охранки сиречь жандармерии путиловского властители либо слушали вполуха либо вообще игнорировали и погибали под эсеровскими бомбами и пулями редкие из них смогли сказать сыщику а ведь вы были правы тому же но через шпионства посвящен и последующий также масштабный и суровый сериал гибель империи 2005 и уж совсем рядом стоит только что просмотренная мною с рецензией секретная служба его величества 2006 которую рекомендую посмотреть вслед за империей а потом уже и гибель по хронологии событий а теперь обратим внимание на врагов в гибели и в секретной службе бьются царская охранка в разных видах с одной стороны с другой боевая организация партии эсеров кто не знает партии социалистов революционеров а потом и отколовшиеся эсеры максималисты все они убежденные террористы бомбисты и стреляльщики по большому счету враги достойны друг друга царские глупцы да ротозеи за исключением отдельных светлых голов вроде путиловского или дуэта извеков кулебако из секретной службы против придурочных наивных но фанатично преданных делу р революции и террору как пути ее достижения эсеровских русских ребят разночинцев да студентов а так же довольно многочисленной группы евреев главная причина их озлобления на царизм см черта оседлости среди которых тоже были суперидейные вроде доры бриллиант а были и суперхитрецы и нашим и вашим но за деньги вроде легендарного и исторического азефа еще более легендарная особо стоящая фигура эсер боевик борис савинков тоже тут но о нем лучше читать его мемуары или смотреть исчадье ада 1991 всадник по имени смерть 2004 вот такая вот война с переменным успехом ожидает вас в империи под ударом и от нее не оторвешься особенно если учесть какие прекрасные актеры в ней задействованы даже в скромных эпизодах игорь ливанов путиловский никоненко пороховщиков серебряков хабенский домогаров да еще отвечу предыдущему оратору на непотребное состояние реквизита и тогда не все было новеньким с иголочки вещи знаете ли носились и изнашивались даже телефоны или же саквояжи поскольку ими пользовались зато здесь мы видим свежие номера газет а не пожелтевшие как в сериале пепел и ношеные мундиры а не только что пошитые гимнастерки из последний бой майора пугачева да забыл задать последний отнюдь не риторический вопрос для размышления за последнее время кто нибудь слышал хоть об одном еврее террористе думается и не услышите а почему так то 8 из 10',\n",
              " 'период от реформ александра освободителя до первой русской революцией и вправду был эпохой индивидуального террора революционеров в учебниках истории как правило упоминаются покушения на александра ii одно закончилось удачно и брат ленина в связи с покушением на александра iii за что его и повесили а вот террор против должностных лиц империи сводится к примеру веры засулич стрелявшей в трепова а иные жертвы и революционеры не так известны но имена их живут в названиях улиц городов каляева созонова и редко кто доподлинно знают что они сделали в империи под ударом именно про подзабытых революционерах идет речь ну и конечно про руководителей боевой организации эсеров которых невозможно не помнить азефе гершуни савинкове противостоят им сотрудники петербургского охранного отделения путиловский берг медянников личности выдуманные но достаточно хорошо показывающие каждодневную работу группы по борьбе с террористами мне лично сериал понравился своей непредвзятостью по отношению сторон у каждого была показана своя правда за которую они боролись и умирали образы сотрудников охранного отделения эсеров бомбистов сановников и простых горожан показаны максимально приближенными к обычным людям может за это и стал мне данный сериал близок снято также очень увлекательно события развиваются интересно для зрителя мы становимся участниками каждого дела группы путиловского можем сопереживать ему или эсерам но никак нельзя сказать что кино получилось не динамичным по части сюжетной линии вопросов нет неплохо воссоздана атмосфера начала 20 го века и в быту и в общественном сознании некоторые серии погружают в жизнь обывателей какие то в салонную жизнь столиц но общее впечатление от того что веришь происходящему на экране не утрачивается и главное исторические фигуры ставшие жертвами и убийцами это ожившие книжные строки мы как будто следуем за балмашовым на встречу с сипягиным который выговаривает ему за форму одежды офицера идем по набережной за егором созоновым с бомбой для плеве или не видим раскаяния в иване каляеве после убийства великого князя вместе с джунковским сбегаем от охраны и выносим приговор на партийном суде азефу эффект погружения в историю полный не побоюсь этого слова но актеры сыграли в сериале отлично игорь ливанов путиловский алексей серебряков савинков валентин букин медянников александр домогаров гапон николай чиндяйкин рачковский владимир богданов азеф и многие другие составили ансамбля который украсил фильм естественно я нашел много несоответствий историческим фактам например кто выдал азефа и как в реале выглядел джунковский в высшей степени интересная и трагическая судьба офицер гвардии командир корпуса жандармов консультант вчк по созданию сыска но общего восприятия сериала это не портит могу порекомендовать к просмотру 9 из 10',\n",
              " 'атмосферный сериал о российской империи начала хх века некоторые серии очень хороши именно как детективные истории например бастард но все же сериал в первую очередь будет интересен тем кто увлечен историей россии сериал я просмотрела за несколько дней он довольно легкий и не перегружает зрителя ни тяжелой картинкой ни тяжелыми диалогами здесь есть ненавязчивая любовная линия и присутствует добродушный юмор оставляют меня в недоумении две вещи прежде всего неполнота исторического контекста с одной стороны многие серии как говорится основаны на реальных событиях и претендуют на историческую точность повествования с другой громадные потрясения которые невозможно было бы не заметить живя в начале хх века были просто упущены не представляю как можно было обойти русско японскую войну будто ее и не было от сюда же скомканность волнений 1905 1907 годов ни слова ни о чем кроме кровавого воскресенья можно считать или не считать те события первой русской революцией но упуская их вовсе мы не можем почувствовать дух эпохи при просмотре нет ощущения неустроенности смуты и надвигающейся трагедии вторя вещь меня расстроившая черно белая сюжетная канва хорошие четные государственные мужи становятся безвинными жертвами экзальтированных жестоких террористов по моему личному убеждению у террора нет и не может быть оправдания но я ратую за историческую справедливость ибо у всего есть причина и следствие а так получилось что эсеры всецело порождение иррационального вселенского зла можно было бы почаще отвечать на вопросы жертв террора за что они меня и отвечать конкретнее чем партия приговорила или он сатрап и душитель свободы на примере в к сергея александровича генерал губернатора москвы можно было бы если не оправдать террор то указать на его причину по свидетельствам современников в том числе родственников это был очень тяжелый иногда невыносимый человек в сериале бесстрашный примерный отец семейства я не претендую на роль режиссера или сценариста ясно что устранение этих двух недостатков сильно бы усложнило сюжет и утяжелило фильм а так же могло отбить у части аудитории желание досмотреть до конца события сериала предтеча новой череды печальных и губительных для россии событий хочется больше поговорить о достоинствах сериала коих предостаточно во первых мне очень понравились три товарища три центральных героя начальник особого отдела третьего отделения путиловский это отсылка к путилову конечно главе сыскной полиции петербурга талантливый инженер и актер берг и жандарм старой закалки медянников очень разные персонажи со своими подходами к общему делу но отлично сработавшиеся вместе мне показалось что создатели сериала знакомы с книгами акунина о сыщике эрасте фандорине которые выходили с 1998 года павел нестерович как и эраст петрович работал в полиции потом в третьем отделении лишился невесты накануне свадьбы закрутил роман с сочувствующей революционерам барышней путиловский и фандорин люди твердой воли следующие законам чести во вторых замечательный актерский состав алексимова серебряков домогаров александрова лиепа хабенский в эпизодических ролях наслаждение по поводу константина хабенского интересно каково это побывать по обе стороны играть революционеров террористов грин в статском советнике и адмирала колчака адмирал понравилась мне сюжетная линия с великим провокаторам азефом который как точно подмечено в сериале работал только на себя можно ли для спасения отечества пользоваться услугами таких провокаторов путиловский стоит на том что цель не оправдывает средств но историческая закономерность такова что всегда будут выигрывать те кто не брезгует применять любые методы в целом интересный легкий приятный для просмотра сериал о царской россии о мире который погиб но восторжествовало ли правосудие',\n",
              " 'самая большая беда современного общества это терроризм террор это бессмысленная безумная война человека с человеком те кто думает что с помощью террора можно добиться реализации каких то идей не важно политических или теологических глубоко ошибается террор ведет лишь к боли и ненависти а также к вечному проклятью и не важно через какое время наступает расплата через секунду или 70 лет она неизбежна хочется выразить благодарность создателям фильма за действительно хорошее кино все продумано взвешено реалистично фильм вызывает бурю эмоций заставляет чувствовать сопереживать замечательная игра актеров увлекательный сюжет операторская работа все это ставит данный фильм на очень высокий уровень но самое главное фильм позволяет окончательно очистить сознание людей от коммунистической пропагандистской шелухи и взглянуть на историю с точки зрения трезвого нормального цивилизованного человека ведь террор какими бы целями и идеями он не прикрывался суть зверя а не человека']"
            ]
          },
          "metadata": {
            "tags": []
          },
          "execution_count": 26
        }
      ]
    },
    {
      "cell_type": "code",
      "metadata": {
        "id": "dCWFTPaTTBug",
        "colab_type": "code",
        "colab": {}
      },
      "source": [
        "# def convertlist(lst): \n",
        "#     return [[el] for el in lst] \n",
        "\n",
        "# data_sent = convertlist(data)\n",
        "# data_sent[:10]"
      ],
      "execution_count": 27,
      "outputs": []
    },
    {
      "cell_type": "code",
      "metadata": {
        "id": "dkZTlTbVvHkm",
        "colab_type": "code",
        "colab": {}
      },
      "source": [
        "# data_token = []\n",
        "# for sent in data_sent:\n",
        "#   for s in sent:\n",
        "#     data_token.append(s.split())"
      ],
      "execution_count": 31,
      "outputs": []
    },
    {
      "cell_type": "code",
      "metadata": {
        "id": "PL7vcyDkC689",
        "colab_type": "code",
        "colab": {}
      },
      "source": [
        "# data_token_clean = [[word for word in sub if word not in stopset] for sub in data_token]"
      ],
      "execution_count": 32,
      "outputs": []
    },
    {
      "cell_type": "code",
      "metadata": {
        "id": "-NzDGlx2FHEw",
        "colab_type": "code",
        "colab": {
          "base_uri": "https://localhost:8080/",
          "height": 54
        },
        "outputId": "9d3dfc25-3c91-429e-e4bc-37b32daa4a21"
      },
      "source": [
        "data_token = []\n",
        "for i in data:\n",
        "  data_token.append(i.split())\n",
        "\n",
        "print(data_token[0])"
      ],
      "execution_count": 29,
      "outputs": [
        {
          "output_type": "stream",
          "text": [
            "['настоящее', 'кино', 'наше', 'кино', 'прекрасная', 'работа', 'сценариста', 'режиссера', 'операторов', 'профессиональный', 'монтаж', 'музыкальное', 'сопровождение', 'превосходная', 'игра', 'актеров', 'работа', 'с', 'таким', 'тонким', 'материалом', 'как', 'история', 'требует', 'мастерства', 'и', 'подлинного', 'таланта', 'это', 'не', 'фантазия', 'и', 'нахлынувшее', 'воображение', 'а', 'факты', 'подлинная', 'история', 'с', 'которой', 'нельзя', 'не', 'считаться', 'прочувственно', 'то', 'неспокойное', 'время', 'фильм', 'не', 'отвергает', 'прошлое', 'как', 'делают', 'в', 'некоторых', 'картин', 'не', 'старается', 'выкрасить', 'в', 'черные', 'цвета', 'действующих', 'лиц', 'фильм', 'всего', 'лишь', 'повествует', 'о', 'людях', 'об', 'идеях', 'о', 'любви', 'повествует', 'о', 'стране', 'которая', 'очень', 'сильно', 'изменилась', 'но', 'по', 'прежнему', 'существует', 'хочется', 'вериться', 'что', 'никакие', 'идеи', 'и', 'люди', 'которые', 'борются', 'за', 'эти', 'идеи', 'не', 'пойдут', 'по', 'проторенной', 'дороге', 'уроки', 'должны', 'быть', 'выучены', 'особенно', 'уроки', 'истории']\n"
          ],
          "name": "stdout"
        }
      ]
    },
    {
      "cell_type": "code",
      "metadata": {
        "id": "vxR0CZe1ECKs",
        "colab_type": "code",
        "colab": {
          "base_uri": "https://localhost:8080/",
          "height": 54
        },
        "outputId": "396120a1-bf40-4f97-9f04-f4b593ad532b"
      },
      "source": [
        "data_token_clean = [[word for word in sub if word not in stopset] for sub in data_token]\n",
        "print(data_token_clean[0])"
      ],
      "execution_count": 30,
      "outputs": [
        {
          "output_type": "stream",
          "text": [
            "['настоящее', 'кино', 'наше', 'кино', 'прекрасная', 'работа', 'сценариста', 'режиссера', 'операторов', 'профессиональный', 'монтаж', 'музыкальное', 'сопровождение', 'превосходная', 'игра', 'актеров', 'работа', 'таким', 'тонким', 'материалом', 'история', 'требует', 'мастерства', 'подлинного', 'таланта', 'это', 'фантазия', 'нахлынувшее', 'воображение', 'факты', 'подлинная', 'история', 'которой', 'считаться', 'прочувственно', 'неспокойное', 'время', 'фильм', 'отвергает', 'прошлое', 'делают', 'некоторых', 'картин', 'старается', 'выкрасить', 'черные', 'цвета', 'действующих', 'лиц', 'фильм', 'лишь', 'повествует', 'людях', 'идеях', 'любви', 'повествует', 'стране', 'которая', 'очень', 'сильно', 'изменилась', 'прежнему', 'существует', 'хочется', 'вериться', 'никакие', 'идеи', 'люди', 'которые', 'борются', 'идеи', 'пойдут', 'проторенной', 'дороге', 'уроки', 'должны', 'выучены', 'особенно', 'уроки', 'истории']\n"
          ],
          "name": "stdout"
        }
      ]
    },
    {
      "cell_type": "code",
      "metadata": {
        "id": "J8uGQPcCK_Pg",
        "colab_type": "code",
        "colab": {
          "base_uri": "https://localhost:8080/",
          "height": 106
        },
        "outputId": "6c14c211-0426-410f-c6a0-ad1b087a5f85"
      },
      "source": [
        "data_clean = [' '.join(l) for l in data_token_clean]\n",
        "data_clean[0]"
      ],
      "execution_count": 31,
      "outputs": [
        {
          "output_type": "execute_result",
          "data": {
            "application/vnd.google.colaboratory.intrinsic+json": {
              "type": "string"
            },
            "text/plain": [
              "'настоящее кино наше кино прекрасная работа сценариста режиссера операторов профессиональный монтаж музыкальное сопровождение превосходная игра актеров работа таким тонким материалом история требует мастерства подлинного таланта это фантазия нахлынувшее воображение факты подлинная история которой считаться прочувственно неспокойное время фильм отвергает прошлое делают некоторых картин старается выкрасить черные цвета действующих лиц фильм лишь повествует людях идеях любви повествует стране которая очень сильно изменилась прежнему существует хочется вериться никакие идеи люди которые борются идеи пойдут проторенной дороге уроки должны выучены особенно уроки истории'"
            ]
          },
          "metadata": {
            "tags": []
          },
          "execution_count": 31
        }
      ]
    },
    {
      "cell_type": "code",
      "metadata": {
        "id": "eYCoG-1PNPIg",
        "colab_type": "code",
        "colab": {
          "base_uri": "https://localhost:8080/",
          "height": 34
        },
        "outputId": "f71d089e-62b0-46e9-c517-d883ad0220e5"
      },
      "source": [
        "len(data_clean)"
      ],
      "execution_count": 32,
      "outputs": [
        {
          "output_type": "execute_result",
          "data": {
            "text/plain": [
              "80284"
            ]
          },
          "metadata": {
            "tags": []
          },
          "execution_count": 32
        }
      ]
    },
    {
      "cell_type": "code",
      "metadata": {
        "id": "U5jTE8vCc4xa",
        "colab_type": "code",
        "colab": {
          "base_uri": "https://localhost:8080/",
          "height": 87
        },
        "outputId": "b99b5115-5fbc-47d7-8363-4c5ddc830dd0"
      },
      "source": [
        "# pip install pymorphy2"
      ],
      "execution_count": 24,
      "outputs": [
        {
          "output_type": "stream",
          "text": [
            "Requirement already satisfied: pymorphy2 in /usr/local/lib/python3.6/dist-packages (0.8)\n",
            "Requirement already satisfied: dawg-python>=0.7 in /usr/local/lib/python3.6/dist-packages (from pymorphy2) (0.7.2)\n",
            "Requirement already satisfied: pymorphy2-dicts<3.0,>=2.4 in /usr/local/lib/python3.6/dist-packages (from pymorphy2) (2.4.393442.3710985)\n",
            "Requirement already satisfied: docopt>=0.6 in /usr/local/lib/python3.6/dist-packages (from pymorphy2) (0.6.2)\n"
          ],
          "name": "stdout"
        }
      ]
    },
    {
      "cell_type": "code",
      "metadata": {
        "id": "JeGHBm8vbOJv",
        "colab_type": "code",
        "colab": {}
      },
      "source": [
        "# import pymorphy2\n",
        "# from pymorphy2 import MorphAnalyzer\n",
        "# morph = MorphAnalyzer()"
      ],
      "execution_count": 21,
      "outputs": []
    },
    {
      "cell_type": "code",
      "metadata": {
        "id": "zOuZ_lSKUOTN",
        "colab_type": "code",
        "colab": {}
      },
      "source": [
        "# def ftoken_morphem(text):\n",
        "#   morphem = []\n",
        "#   for i in text:\n",
        "#     morphem.append([morph.parse(t)[0].normal_form for t in i])\n",
        "#   return morphem"
      ],
      "execution_count": 42,
      "outputs": []
    },
    {
      "cell_type": "code",
      "metadata": {
        "id": "9ZsPdAyaoQgF",
        "colab_type": "code",
        "colab": {}
      },
      "source": [
        "import tqdm\n",
        "from tqdm import tqdm"
      ],
      "execution_count": 33,
      "outputs": []
    },
    {
      "cell_type": "code",
      "metadata": {
        "id": "2Pv3uB7omgz_",
        "colab_type": "code",
        "colab": {}
      },
      "source": [
        "# import labelencoder\n",
        "from sklearn.preprocessing import LabelEncoder\n",
        "number = LabelEncoder()\n",
        "reviews['target'] = number.fit_transform(reviews['target'].astype('str'))"
      ],
      "execution_count": 34,
      "outputs": []
    },
    {
      "cell_type": "code",
      "metadata": {
        "id": "M3m2sJxYEWp2",
        "colab_type": "code",
        "colab": {
          "base_uri": "https://localhost:8080/",
          "height": 82
        },
        "outputId": "568be8ab-d389-4172-a18a-3e8ab41418a0"
      },
      "source": [
        "#sentiment count\n",
        "reviews['target'].value_counts()"
      ],
      "execution_count": 35,
      "outputs": [
        {
          "output_type": "execute_result",
          "data": {
            "text/plain": [
              "1    60189\n",
              "2    12814\n",
              "0     7281\n",
              "Name: target, dtype: int64"
            ]
          },
          "metadata": {
            "tags": []
          },
          "execution_count": 35
        }
      ]
    },
    {
      "cell_type": "code",
      "metadata": {
        "id": "wtO_NeDU3JiG",
        "colab_type": "code",
        "colab": {}
      },
      "source": [
        "from sklearn.feature_extraction.text import CountVectorizer\n",
        "cv = CountVectorizer()\n",
        "X = cv.fit_transform(data_clean)\n",
        "y = reviews.iloc[:, 0].values"
      ],
      "execution_count": 37,
      "outputs": []
    },
    {
      "cell_type": "code",
      "metadata": {
        "id": "EV7HPJhllktp",
        "colab_type": "code",
        "colab": {
          "base_uri": "https://localhost:8080/",
          "height": 33
        },
        "outputId": "ef9a2106-ea2e-4697-ecad-d13e6779d50d"
      },
      "source": [
        "X.shape"
      ],
      "execution_count": 38,
      "outputs": [
        {
          "output_type": "execute_result",
          "data": {
            "text/plain": [
              "(80284, 408917)"
            ]
          },
          "metadata": {
            "tags": []
          },
          "execution_count": 38
        }
      ]
    },
    {
      "cell_type": "code",
      "metadata": {
        "id": "542l55JDlvXY",
        "colab_type": "code",
        "colab": {
          "base_uri": "https://localhost:8080/",
          "height": 33
        },
        "outputId": "c546366d-80d3-4dbb-ba95-74c20f9a3b4f"
      },
      "source": [
        "y.shape"
      ],
      "execution_count": 39,
      "outputs": [
        {
          "output_type": "execute_result",
          "data": {
            "text/plain": [
              "(80284,)"
            ]
          },
          "metadata": {
            "tags": []
          },
          "execution_count": 39
        }
      ]
    },
    {
      "cell_type": "code",
      "metadata": {
        "id": "YzJE_BGYN9iN",
        "colab_type": "code",
        "colab": {
          "base_uri": "https://localhost:8080/",
          "height": 33
        },
        "outputId": "11682117-60fb-45a1-ee86-1b28f2ec49f6"
      },
      "source": [
        "y"
      ],
      "execution_count": 40,
      "outputs": [
        {
          "output_type": "execute_result",
          "data": {
            "text/plain": [
              "array([1, 1, 1, ..., 1, 1, 1])"
            ]
          },
          "metadata": {
            "tags": []
          },
          "execution_count": 40
        }
      ]
    },
    {
      "cell_type": "code",
      "metadata": {
        "id": "japGYOIMMdDg",
        "colab_type": "code",
        "colab": {}
      },
      "source": [
        "from sklearn import model_selection\n",
        "\n",
        "X_train, X_test, y_train, y_test = model_selection.train_test_split(X, y, test_size=0.2, random_state=0, stratify=y)"
      ],
      "execution_count": 41,
      "outputs": []
    },
    {
      "cell_type": "code",
      "metadata": {
        "id": "k2R_OQ1nqLD4",
        "colab_type": "code",
        "colab": {
          "base_uri": "https://localhost:8080/",
          "height": 33
        },
        "outputId": "3d85857f-4b08-4c5a-c98a-94164667e63b"
      },
      "source": [
        "print(X_train.shape, X_test.shape, y_train.shape, y_test.shape)"
      ],
      "execution_count": 42,
      "outputs": [
        {
          "output_type": "stream",
          "text": [
            "(64227, 408917) (16057, 408917) (64227,) (16057,)\n"
          ],
          "name": "stdout"
        }
      ]
    },
    {
      "cell_type": "code",
      "metadata": {
        "id": "ALkdpE0r8121",
        "colab_type": "code",
        "colab": {}
      },
      "source": [
        "# # Scaling the Train and Test feature set \n",
        "# from sklearn.preprocessing import StandardScaler\n",
        "# scaler = StandardScaler(with_mean=False)\n",
        "# X_train_scaled = scaler.fit_transform(X_train)\n",
        "# X_test_scaled = scaler.transform(X_test)"
      ],
      "execution_count": 50,
      "outputs": []
    },
    {
      "cell_type": "code",
      "metadata": {
        "id": "T8c944yEmWhR",
        "colab_type": "code",
        "colab": {
          "base_uri": "https://localhost:8080/",
          "height": 50
        },
        "outputId": "c5a9ca04-6029-4b06-b979-9afe571c822b"
      },
      "source": [
        "%%time \n",
        "\n",
        "nb = MultinomialNB()\n",
        "nb.fit(X_train, y_train)"
      ],
      "execution_count": 65,
      "outputs": [
        {
          "output_type": "stream",
          "text": [
            "CPU times: user 226 ms, sys: 1.75 ms, total: 228 ms\n",
            "Wall time: 232 ms\n"
          ],
          "name": "stdout"
        }
      ]
    },
    {
      "cell_type": "code",
      "metadata": {
        "id": "B71fW7Hlnpbf",
        "colab_type": "code",
        "colab": {
          "base_uri": "https://localhost:8080/",
          "height": 66
        },
        "outputId": "32f252a3-5caa-4d5b-da5c-fa932bc8e2d4"
      },
      "source": [
        "%%time\n",
        "from sklearn.model_selection import cross_val_score\n",
        "results_nb_cv = cross_val_score(nb, X_train, y_train, cv=5)\n",
        "print(results_nb_cv.mean())"
      ],
      "execution_count": 67,
      "outputs": [
        {
          "output_type": "stream",
          "text": [
            "0.7935603408512628\n",
            "CPU times: user 1.38 s, sys: 16.3 ms, total: 1.39 s\n",
            "Wall time: 1.4 s\n"
          ],
          "name": "stdout"
        }
      ]
    },
    {
      "cell_type": "code",
      "metadata": {
        "id": "68ok6ltduNSg",
        "colab_type": "code",
        "colab": {
          "base_uri": "https://localhost:8080/",
          "height": 33
        },
        "outputId": "d11d421b-e92e-4ed4-a33b-764d29a05ac7"
      },
      "source": [
        "nb.score(X_test, y_test)"
      ],
      "execution_count": 68,
      "outputs": [
        {
          "output_type": "execute_result",
          "data": {
            "text/plain": [
              "0.8060036121317805"
            ]
          },
          "metadata": {
            "tags": []
          },
          "execution_count": 68
        }
      ]
    },
    {
      "cell_type": "code",
      "metadata": {
        "id": "xDVqUs5OoGp9",
        "colab_type": "code",
        "colab": {
          "base_uri": "https://localhost:8080/",
          "height": 66
        },
        "outputId": "d9231e52-26e7-4104-f1e6-d2ab72f9da2e"
      },
      "source": [
        "X_test_pred = nb.predict(X_test)\n",
        "confusion_matrix(y_test, X_test_pred)"
      ],
      "execution_count": 69,
      "outputs": [
        {
          "output_type": "execute_result",
          "data": {
            "text/plain": [
              "array([[  632,   596,   228],\n",
              "       [   80, 11559,   399],\n",
              "       [  116,  1696,   751]])"
            ]
          },
          "metadata": {
            "tags": []
          },
          "execution_count": 69
        }
      ]
    },
    {
      "cell_type": "code",
      "metadata": {
        "id": "-8qSeAdmoH9h",
        "colab_type": "code",
        "colab": {
          "base_uri": "https://localhost:8080/",
          "height": 180
        },
        "outputId": "40244488-fcba-43f5-ddaa-26b9d4251f63"
      },
      "source": [
        "print(classification_report(y_test, X_test_pred))"
      ],
      "execution_count": 70,
      "outputs": [
        {
          "output_type": "stream",
          "text": [
            "              precision    recall  f1-score   support\n",
            "\n",
            "           0       0.76      0.43      0.55      1456\n",
            "           1       0.83      0.96      0.89     12038\n",
            "           2       0.54      0.29      0.38      2563\n",
            "\n",
            "    accuracy                           0.81     16057\n",
            "   macro avg       0.71      0.56      0.61     16057\n",
            "weighted avg       0.78      0.81      0.78     16057\n",
            "\n"
          ],
          "name": "stdout"
        }
      ]
    },
    {
      "cell_type": "code",
      "metadata": {
        "id": "dqV4z6K0OIXK",
        "colab_type": "code",
        "colab": {
          "base_uri": "https://localhost:8080/",
          "height": 163
        },
        "outputId": "8c613254-3f60-446f-b52a-2829c51cd031"
      },
      "source": [
        "import timeit\n",
        "import warnings\n",
        "\n",
        "import matplotlib.pyplot as plt\n",
        "import numpy as np\n",
        "\n",
        "from sklearn.linear_model import LogisticRegression\n",
        "from sklearn.exceptions import ConvergenceWarning\n",
        "\n",
        "print(__doc__)\n",
        "\n",
        "warnings.filterwarnings(\"ignore\", category=ConvergenceWarning,\n",
        "                        module=\"sklearn\")\n",
        "t0 = timeit.default_timer()\n",
        "\n",
        "# We use SAGA solver\n",
        "solver = 'saga'\n",
        "\n",
        "# Turn down for faster run time\n",
        "n_samples = 10000\n",
        "\n",
        "train_samples, n_features = X_train.shape\n",
        "n_classes = np.unique(y).shape[0]\n",
        "\n",
        "print('Dataset reviews, train_samples=%i, n_features=%i, n_classes=%i'\n",
        "      % (train_samples, n_features, n_classes))\n",
        "\n",
        "models = {'ovr': {'name': 'One versus Rest', 'iters': [1, 2, 4]}}\n",
        "\n",
        "for model in models:\n",
        "    accuracies = [1 / n_classes]\n",
        "    times = [0]\n",
        "    densities = [1]\n",
        "\n",
        "    model_params = models[model]\n",
        "\n",
        "    # Small number of epochs for fast runtime\n",
        "    for this_max_iter in model_params['iters']:\n",
        "        print('[model=%s, solver=%s] Number of epochs: %s' %\n",
        "              (model_params['name'], solver, this_max_iter))\n",
        "        lr = LogisticRegression(solver=solver,\n",
        "                                multi_class=model,\n",
        "                                penalty='l1',\n",
        "                                max_iter=this_max_iter,\n",
        "                                random_state=42,\n",
        "                                )\n",
        "        t1 = timeit.default_timer()\n",
        "        lr.fit(X_train, y_train)\n",
        "        train_time = timeit.default_timer() - t1\n",
        "\n",
        "        y_pred = lr.predict(X_test)\n",
        "        accuracy = np.sum(y_pred == y_test) / y_test.shape[0]\n",
        "        density = np.mean(lr.coef_ != 0, axis=1) * 100\n",
        "        accuracies.append(accuracy)\n",
        "        densities.append(density)\n",
        "        times.append(train_time)\n",
        "    models[model]['times'] = times\n",
        "    models[model]['densities'] = densities\n",
        "    models[model]['accuracies'] = accuracies\n",
        "    print('Test accuracy for model %s: %.4f' % (model, accuracies[-1]))\n",
        "    print('%% non-zero coefficients for model %s, '\n",
        "          'per class:\\n %s' % (model, densities[-1]))\n",
        "    print('Run time (%i epochs) for model %s:'\n",
        "          '%.2f' % (model_params['iters'][-1], model, times[-1]))\n"
      ],
      "execution_count": 80,
      "outputs": [
        {
          "output_type": "stream",
          "text": [
            "Automatically created module for IPython interactive environment\n",
            "Dataset reviews, train_samples=64227, n_features=408917, n_classes=3\n",
            "[model=One versus Rest, solver=saga] Number of epochs: 1\n",
            "[model=One versus Rest, solver=saga] Number of epochs: 2\n",
            "[model=One versus Rest, solver=saga] Number of epochs: 4\n",
            "Test accuracy for model ovr: 0.7952\n",
            "% non-zero coefficients for model ovr, per class:\n",
            " [29.94103938 40.7290477  38.53398122]\n",
            "Run time (4 epochs) for model ovr:512.21\n"
          ],
          "name": "stdout"
        }
      ]
    },
    {
      "cell_type": "code",
      "metadata": {
        "id": "6VccEyG_UYyc",
        "colab_type": "code",
        "colab": {}
      },
      "source": [
        ""
      ],
      "execution_count": null,
      "outputs": []
    },
    {
      "cell_type": "code",
      "metadata": {
        "id": "Ip5Usb0cpVXn",
        "colab_type": "code",
        "colab": {}
      },
      "source": [
        "# def predict_cat(d):\n",
        "#     cat_names = {0 : 'bad', 1: 'good', 2: 'neutral'}\n",
        "#     cod = nb.predict(cv.transform(d))\n",
        "#     return cat_names[number.inverse_transform(cod)[0]]"
      ],
      "execution_count": 58,
      "outputs": []
    },
    {
      "cell_type": "code",
      "metadata": {
        "id": "_-0qbTIGpmoY",
        "colab_type": "code",
        "colab": {}
      },
      "source": [
        "# predict_cat(data_clean)"
      ],
      "execution_count": 59,
      "outputs": []
    },
    {
      "cell_type": "code",
      "metadata": {
        "id": "8gu5yV3vsd9d",
        "colab_type": "code",
        "colab": {
          "base_uri": "https://localhost:8080/",
          "height": 50
        },
        "outputId": "2faabed1-6c63-4514-fd0a-39385377afba"
      },
      "source": [
        "%%time \n",
        "\n",
        "from sklearn.linear_model import LogisticRegression\n",
        "from sklearn.multiclass import OneVsRestClassifier\n",
        "from sklearn.exceptions import ConvergenceWarning\n",
        "\n",
        "warnings.filterwarnings(\"ignore\", category=ConvergenceWarning,\n",
        "                        module=\"sklearn\")\n",
        "\n",
        "# Instantiate the classifier: clf\n",
        "clf = OneVsRestClassifier(LogisticRegression(solver = 'saga', random_state = 42))\n",
        "\n",
        "# Fit the classifier to the training data\n",
        "clf.fit(X_train, y_train)"
      ],
      "execution_count": 83,
      "outputs": [
        {
          "output_type": "stream",
          "text": [
            "CPU times: user 1min 49s, sys: 31.6 ms, total: 1min 49s\n",
            "Wall time: 1min 49s\n"
          ],
          "name": "stdout"
        }
      ]
    },
    {
      "cell_type": "code",
      "metadata": {
        "id": "VkHfch5rsqn3",
        "colab_type": "code",
        "colab": {
          "base_uri": "https://localhost:8080/",
          "height": 66
        },
        "outputId": "b2994bf8-cf4f-45ce-d7d2-f387fd60d635"
      },
      "source": [
        "X_test_clv_pred = clf.predict(X_test)\n",
        "confusion_matrix(y_test, X_test_clv_pred)"
      ],
      "execution_count": 84,
      "outputs": [
        {
          "output_type": "execute_result",
          "data": {
            "text/plain": [
              "array([[  927,   320,   209],\n",
              "       [   63, 11614,   361],\n",
              "       [  202,  1410,   951]])"
            ]
          },
          "metadata": {
            "tags": []
          },
          "execution_count": 84
        }
      ]
    },
    {
      "cell_type": "code",
      "metadata": {
        "id": "Wd3dQ0y_U1g5",
        "colab_type": "code",
        "colab": {
          "base_uri": "https://localhost:8080/",
          "height": 66
        },
        "outputId": "12ca1861-7d3e-417d-d8dd-67c857948f2b"
      },
      "source": [
        "X_test_lr_pred = lr.predict(X_test)\n",
        "confusion_matrix(y_test, X_test_lr_pred)"
      ],
      "execution_count": 88,
      "outputs": [
        {
          "output_type": "execute_result",
          "data": {
            "text/plain": [
              "array([[  595,   689,   172],\n",
              "       [   59, 11768,   211],\n",
              "       [  206,  1951,   406]])"
            ]
          },
          "metadata": {
            "tags": []
          },
          "execution_count": 88
        }
      ]
    },
    {
      "cell_type": "code",
      "metadata": {
        "id": "qixZMPxAuWFU",
        "colab_type": "code",
        "colab": {
          "base_uri": "https://localhost:8080/",
          "height": 33
        },
        "outputId": "50934cda-30e4-45d2-b5f8-a3a037a1271b"
      },
      "source": [
        "print(\"Accuracy: {}\".format(clf.score(X_test, y_test)))"
      ],
      "execution_count": 85,
      "outputs": [
        {
          "output_type": "stream",
          "text": [
            "Accuracy: 0.840256585912686\n"
          ],
          "name": "stdout"
        }
      ]
    },
    {
      "cell_type": "code",
      "metadata": {
        "id": "wfjj5cVfVc02",
        "colab_type": "code",
        "colab": {
          "base_uri": "https://localhost:8080/",
          "height": 33
        },
        "outputId": "4be92fa5-b4bd-4bd3-e18e-9e003ab6a0c0"
      },
      "source": [
        "print(\"Accuracy: {}\".format(lr.score(X_test, y_test)))"
      ],
      "execution_count": 89,
      "outputs": [
        {
          "output_type": "stream",
          "text": [
            "Accuracy: 0.795229494924332\n"
          ],
          "name": "stdout"
        }
      ]
    },
    {
      "cell_type": "code",
      "metadata": {
        "id": "eS841qLztC0j",
        "colab_type": "code",
        "colab": {
          "base_uri": "https://localhost:8080/",
          "height": 180
        },
        "outputId": "1e17674a-96ee-4e14-8d16-dc39a7a6665d"
      },
      "source": [
        "print(classification_report(y_test, X_test_clv_pred))"
      ],
      "execution_count": 86,
      "outputs": [
        {
          "output_type": "stream",
          "text": [
            "              precision    recall  f1-score   support\n",
            "\n",
            "           0       0.78      0.64      0.70      1456\n",
            "           1       0.87      0.96      0.92     12038\n",
            "           2       0.63      0.37      0.47      2563\n",
            "\n",
            "    accuracy                           0.84     16057\n",
            "   macro avg       0.76      0.66      0.69     16057\n",
            "weighted avg       0.82      0.84      0.82     16057\n",
            "\n"
          ],
          "name": "stdout"
        }
      ]
    },
    {
      "cell_type": "code",
      "metadata": {
        "id": "cDw29RPfVhen",
        "colab_type": "code",
        "colab": {
          "base_uri": "https://localhost:8080/",
          "height": 180
        },
        "outputId": "35685ee7-dc99-4956-9a60-71ccd8ae8994"
      },
      "source": [
        "print(classification_report(y_test, X_test_lr_pred))"
      ],
      "execution_count": 90,
      "outputs": [
        {
          "output_type": "stream",
          "text": [
            "              precision    recall  f1-score   support\n",
            "\n",
            "           0       0.69      0.41      0.51      1456\n",
            "           1       0.82      0.98      0.89     12038\n",
            "           2       0.51      0.16      0.24      2563\n",
            "\n",
            "    accuracy                           0.80     16057\n",
            "   macro avg       0.67      0.51      0.55     16057\n",
            "weighted avg       0.76      0.80      0.75     16057\n",
            "\n"
          ],
          "name": "stdout"
        }
      ]
    },
    {
      "cell_type": "code",
      "metadata": {
        "id": "Oy9ifxo3tSdq",
        "colab_type": "code",
        "colab": {
          "base_uri": "https://localhost:8080/",
          "height": 33
        },
        "outputId": "a8ef37df-3ab0-4392-df0b-3dc96c1c96ce"
      },
      "source": [
        "clf_pred = clf.predict(X)\n",
        "np_pred = nb.predict(X)\n",
        "\n",
        "models_correlation = np.corrcoef(clf_pred, np_pred)\n",
        "models_correlation[0,1]"
      ],
      "execution_count": 87,
      "outputs": [
        {
          "output_type": "execute_result",
          "data": {
            "text/plain": [
              "0.7064078926306627"
            ]
          },
          "metadata": {
            "tags": []
          },
          "execution_count": 87
        }
      ]
    },
    {
      "cell_type": "code",
      "metadata": {
        "id": "fzeRepOXVrFU",
        "colab_type": "code",
        "colab": {
          "base_uri": "https://localhost:8080/",
          "height": 33
        },
        "outputId": "3ae0b546-ef67-4295-cd36-454ac282b33d"
      },
      "source": [
        "lr_pred = lr.predict(X)\n",
        "clf_pred = clf.predict(X)\n",
        "\n",
        "models_correlation_2 = np.corrcoef(lr_pred, clf_pred)\n",
        "models_correlation_2[0,1]"
      ],
      "execution_count": 93,
      "outputs": [
        {
          "output_type": "execute_result",
          "data": {
            "text/plain": [
              "0.4371535934437078"
            ]
          },
          "metadata": {
            "tags": []
          },
          "execution_count": 93
        }
      ]
    },
    {
      "cell_type": "code",
      "metadata": {
        "id": "6OhYmGp866qT",
        "colab_type": "code",
        "colab": {
          "base_uri": "https://localhost:8080/",
          "height": 578
        },
        "outputId": "6776246a-8f4c-4e86-8319-1e128d8fb175"
      },
      "source": [
        "import timeit\n",
        "import warnings\n",
        "\n",
        "import matplotlib.pyplot as plt\n",
        "import numpy as np\n",
        "\n",
        "from sklearn.linear_model import LogisticRegression\n",
        "from sklearn.exceptions import ConvergenceWarning\n",
        "\n",
        "print(__doc__)\n",
        "\n",
        "warnings.filterwarnings(\"ignore\", category=ConvergenceWarning,\n",
        "                        module=\"sklearn\")\n",
        "t0 = timeit.default_timer()\n",
        "\n",
        "# We use SAGA solver\n",
        "solver = 'saga'\n",
        "\n",
        "# Turn down for faster run time\n",
        "n_samples = 10000\n",
        "\n",
        "\n",
        "train_samples, n_features = X_train.shape\n",
        "n_classes = np.unique(y).shape[0]\n",
        "\n",
        "print('Dataset reviews, train_samples=%i, n_features=%i, n_classes=%i'\n",
        "      % (train_samples, n_features, n_classes))\n",
        "\n",
        "models = {'ovr': {'name': 'One versus Rest', 'iters': [1, 2, 4]},\n",
        "          'multinomial': {'name': 'Multinomial', 'iters': [1, 3, 7]}}\n",
        "\n",
        "for model in models:\n",
        "    # Add initial chance-level values for plotting purpose\n",
        "    accuracies = [1 / n_classes]\n",
        "    times = [0]\n",
        "    densities = [1]\n",
        "\n",
        "    model_params = models[model]\n",
        "\n",
        "    # Small number of epochs for fast runtime\n",
        "    for this_max_iter in model_params['iters']:\n",
        "        print('[model=%s, solver=%s] Number of epochs: %s' %\n",
        "              (model_params['name'], solver, this_max_iter))\n",
        "        lr = LogisticRegression(solver=solver,\n",
        "                                multi_class=model,\n",
        "                                penalty='l1',\n",
        "                                max_iter=this_max_iter,\n",
        "                                random_state=42,\n",
        "                                )\n",
        "        t1 = timeit.default_timer()\n",
        "        lr.fit(X_train, y_train)\n",
        "        train_time = timeit.default_timer() - t1\n",
        "\n",
        "        y_pred = lr.predict(X_test)\n",
        "        accuracy = np.sum(y_pred == y_test) / y_test.shape[0]\n",
        "        density = np.mean(lr.coef_ != 0, axis=1) * 100\n",
        "        accuracies.append(accuracy)\n",
        "        densities.append(density)\n",
        "        times.append(train_time)\n",
        "    models[model]['times'] = times\n",
        "    models[model]['densities'] = densities\n",
        "    models[model]['accuracies'] = accuracies\n",
        "    print('Test accuracy for model %s: %.4f' % (model, accuracies[-1]))\n",
        "    print('%% non-zero coefficients for model %s, '\n",
        "          'per class:\\n %s' % (model, densities[-1]))\n",
        "    print('Run time (%i epochs) for model %s:'\n",
        "          '%.2f' % (model_params['iters'][-1], model, times[-1]))\n",
        "\n",
        "fig = plt.figure()\n",
        "ax = fig.add_subplot(111)\n",
        "\n",
        "for model in models:\n",
        "    name = models[model]['name']\n",
        "    times = models[model]['times']\n",
        "    accuracies = models[model]['accuracies']\n",
        "    ax.plot(times, accuracies, marker='o',\n",
        "            label='Model: %s' % name)\n",
        "    ax.set_xlabel('Train time (s)')\n",
        "    ax.set_ylabel('Test accuracy')\n",
        "ax.legend()\n",
        "fig.suptitle('Multinomial vs One-vs-Rest Logistic L1\\n'\n",
        "             'Dataset %s' % 'reviews')\n",
        "fig.tight_layout()\n",
        "fig.subplots_adjust(top=0.85)\n",
        "run_time = timeit.default_timer() - t0\n",
        "print('Example run in %.3f s' % run_time)\n",
        "plt.show()"
      ],
      "execution_count": 110,
      "outputs": [
        {
          "output_type": "stream",
          "text": [
            "Automatically created module for IPython interactive environment\n",
            "Dataset reviews, train_samples=64227, n_features=408917, n_classes=3\n",
            "[model=One versus Rest, solver=saga] Number of epochs: 1\n",
            "[model=One versus Rest, solver=saga] Number of epochs: 2\n",
            "[model=One versus Rest, solver=saga] Number of epochs: 4\n",
            "Test accuracy for model ovr: 0.7952\n",
            "% non-zero coefficients for model ovr, per class:\n",
            " [29.94103938 40.7290477  38.53398122]\n",
            "Run time (4 epochs) for model ovr:539.51\n",
            "[model=Multinomial, solver=saga] Number of epochs: 1\n",
            "[model=Multinomial, solver=saga] Number of epochs: 3\n",
            "[model=Multinomial, solver=saga] Number of epochs: 7\n",
            "Test accuracy for model multinomial: 0.8098\n",
            "% non-zero coefficients for model multinomial, per class:\n",
            " [20.84603966 30.58102255 28.98118689]\n",
            "Run time (7 epochs) for model multinomial:788.18\n",
            "Example run in 2354.238 s\n"
          ],
          "name": "stdout"
        },
        {
          "output_type": "display_data",
          "data": {
            "image/png": "[encoded data removed]",
            "text/plain": [
              "<Figure size 432x288 with 1 Axes>"
            ]
          },
          "metadata": {
            "tags": [],
            "needs_background": "light"
          }
        }
      ]
    },
    {
      "cell_type": "code",
      "metadata": {
        "id": "mlMuWeg7Gz2T",
        "colab_type": "code",
        "colab": {
          "base_uri": "https://localhost:8080/",
          "height": 158
        },
        "outputId": "65bbdb88-9e27-45b8-9e25-913534aceb4f"
      },
      "source": [
        "y_pred"
      ],
      "execution_count": 49,
      "outputs": [
        {
          "output_type": "error",
          "ename": "NameError",
          "evalue": "ignored",
          "traceback": [
            "\u001b[0;31m---------------------------------------------------------------------------\u001b[0m",
            "\u001b[0;31mNameError\u001b[0m                                 Traceback (most recent call last)",
            "\u001b[0;32m<ipython-input-49-3aaf935e6aec>\u001b[0m in \u001b[0;36m<module>\u001b[0;34m()\u001b[0m\n\u001b[0;32m----> 1\u001b[0;31m \u001b[0my_pred\u001b[0m\u001b[0;34m\u001b[0m\u001b[0;34m\u001b[0m\u001b[0m\n\u001b[0m",
            "\u001b[0;31mNameError\u001b[0m: name 'y_pred' is not defined"
          ]
        }
      ]
    },
    {
      "cell_type": "code",
      "metadata": {
        "id": "j4yb5eKd9GBk",
        "colab_type": "code",
        "colab": {}
      },
      "source": [
        "#Libraries to Build Ensemble Model : Random Forest Classifier \n",
        "# Create the parameter grid based on the results of random search \n",
        "params_grid = [{'kernel': ['rbf'], 'gamma': [1e-3, 1e-4],\n",
        "                     'C': [1, 10, 100, 1000]},\n",
        "                    {'kernel': ['linear'], 'C': [1, 10, 100, 1000]}]"
      ],
      "execution_count": 44,
      "outputs": []
    },
    {
      "cell_type": "code",
      "metadata": {
        "id": "gukGYzbC9HZX",
        "colab_type": "code",
        "colab": {
          "base_uri": "https://localhost:8080/",
          "height": 33
        },
        "outputId": "5acb67e7-e154-4b5f-c05e-2da638eb0275"
      },
      "source": [
        "from tqdm import tqdm\n",
        "for i in tqdm(range(5)):\n",
        "  from sklearn.model_selection import GridSearchCV\n",
        "  # Performing CV to tune parameters for best SVM fit \n",
        "  svm_model = GridSearchCV(SVC(), params_grid, cv=5)\n",
        "  svm_model.fit(X_train_scaled, y_train)"
      ],
      "execution_count": null,
      "outputs": [
        {
          "output_type": "stream",
          "text": [
            "\r  0%|          | 0/5 [00:00<?, ?it/s]"
          ],
          "name": "stderr"
        }
      ]
    },
    {
      "cell_type": "code",
      "metadata": {
        "id": "2SqAtCLV9Q-R",
        "colab_type": "code",
        "colab": {}
      },
      "source": [
        "# View the accuracy score\n",
        "print('Best score for training data:', svm_model.best_score_,\"\\n\") \n",
        "\n",
        "# View the best parameters for the model found using grid search\n",
        "print('Best C:',svm_model.best_estimator_.C,\"\\n\") \n",
        "print('Best Kernel:',svm_model.best_estimator_.kernel,\"\\n\")\n",
        "print('Best Gamma:',svm_model.best_estimator_.gamma,\"\\n\")\n",
        "\n",
        "final_model = svm_model.best_estimator_\n",
        "Y_pred = final_model.predict(X_test_scaled)\n",
        "Y_pred_label = list(encoder.inverse_transform(Y_pred))"
      ],
      "execution_count": null,
      "outputs": []
    },
    {
      "cell_type": "code",
      "metadata": {
        "id": "WbpggmFR9R5v",
        "colab_type": "code",
        "colab": {}
      },
      "source": [
        "# Making the Confusion Matrix\n",
        "#print(pd.crosstab(Y_test_label, Y_pred_label, rownames=['Actual Activity'], colnames=['Predicted Activity']))\n",
        "print(confusion_matrix(Y_test_label,Y_pred_label))\n",
        "print(\"\\n\")\n",
        "print(classification_report(Y_test_label,Y_pred_label))\n",
        "\n",
        "print(\"Training set score for SVM: %f\" % final_model.score(X_train_scaled , Y_train))\n",
        "print(\"Testing  set score for SVM: %f\" % final_model.score(X_test_scaled  , Y_test ))\n",
        "\n",
        "svm_model.score"
      ],
      "execution_count": null,
      "outputs": []
    }
  ]
}